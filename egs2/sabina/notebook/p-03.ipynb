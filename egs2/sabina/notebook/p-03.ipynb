{
 "cells": [
  {
   "cell_type": "markdown",
   "metadata": {
    "id": "SMSw_r1uRm4a"
   },
   "source": [
    "[![Open In Colab](https://colab.research.google.com/assets/colab-badge.svg)](https://colab.research.google.com/github/espnet/notebook/blob/master/espnet2_tts_realtime_demo.ipynb)"
   ]
  },
  {
   "cell_type": "markdown",
   "metadata": {
    "id": "MuhqhYSToxl7"
   },
   "source": [
    "# ESPnet2-TTS realtime demonstration\n",
    "\n",
    "This notebook provides a demonstration of the realtime E2E-TTS using ESPnet2-TTS and ParallelWaveGAN (+ MelGAN).\n",
    "\n",
    "- ESPnet2-TTS: https://github.com/espnet/espnet/tree/master/egs2/TEMPLATE/tts1\n",
    "- ParallelWaveGAN: https://github.com/kan-bayashi/ParallelWaveGAN\n",
    "\n",
    "Author: Tomoki Hayashi ([@kan-bayashi](https://github.com/kan-bayashi))"
   ]
  },
  {
   "cell_type": "markdown",
   "metadata": {
    "id": "9e_i_gdgAFNJ"
   },
   "source": [
    "## Installation"
   ]
  },
  {
   "cell_type": "code",
   "execution_count": null,
   "metadata": {
    "id": "fjJ5zkyaoy29"
   },
   "outputs": [],
   "source": [
    "# NOTE: pip shows imcompatible errors due to preinstalled libraries but you do not need to care\n",
    "!pip install -q espnet==0.9.5 parallel_wavegan==0.4.8"
   ]
  },
  {
   "cell_type": "markdown",
   "metadata": {
    "id": "BYLn3bL-qQjN"
   },
   "source": [
    "## Single speaker model demo"
   ]
  },
  {
   "cell_type": "markdown",
   "metadata": {
    "id": "as4iFXid0m4f"
   },
   "source": [
    "### Model Selection\n",
    "\n",
    "Please select models by comment out.\n",
    "\n",
    "English, Japanese, and Mandarin are supported.\n",
    "\n",
    "You can try Tacotron2, FastSpeech, and FastSpeech2 as the text2mel model.  \n",
    "And you can use Parallel WaveGAN and Multi-band MelGAN as the vocoder model."
   ]
  },
  {
   "cell_type": "code",
   "execution_count": null,
   "metadata": {
    "id": "GQ4ra5DcwwGI"
   },
   "outputs": [],
   "source": [
    "###################################\n",
    "#          ENGLISH MODELS         #\n",
    "###################################\n",
    "fs, lang = 22050, \"English\"\n",
    "# tag = \"kan-bayashi/ljspeech_tacotron2\"\n",
    "# tag = \"kan-bayashi/ljspeech_fastspeech\"\n",
    "tag_dir= \"/home/airenas/projects/espnet/egs2/ljspeech/tts1/exp/tts_train_fastspeech2_raw_phn_tacotron_g2p_en_no_space/\"\n",
    "tag = \"20epoch.pth\"\n",
    "# tag = \"kan-bayashi/ljspeech_conformer_fastspeech2\"\n",
    "vocoder_tag = \"ljspeech_parallel_wavegan.v1\"\n",
    "# vocoder_tag = \"ljspeech_full_band_melgan.v2\"\n",
    "# vocoder_tag = \"ljspeech_multi_band_melgan.v2\"\n"
   ]
  },
  {
   "cell_type": "markdown",
   "metadata": {
    "id": "g9S-SFPe0z0w"
   },
   "source": [
    "### Model Setup"
   ]
  },
  {
   "cell_type": "code",
   "execution_count": null,
   "metadata": {
    "id": "z64fD2UgjJ6Q"
   },
   "outputs": [],
   "source": [
    "import time\n",
    "import torch\n",
    "from espnet2.bin.tts_inference import Text2Speech\n",
    "from parallel_wavegan.utils import download_pretrained_model\n",
    "from parallel_wavegan.utils import load_model\n",
    "mf = {'train_config': tag_dir + 'config-run.yaml',\n",
    " 'model_file': tag_dir + tag}\n",
    "dev=\"cuda\"\n",
    "text2speech = Text2Speech(\n",
    "    **mf,\n",
    "    device=dev,\n",
    "    # Only for Tacotron 2\n",
    "    threshold=0.5,\n",
    "    minlenratio=0.0,\n",
    "    maxlenratio=10.0,\n",
    "    use_att_constraint=False,\n",
    "    backward_window=1,\n",
    "    forward_window=3,\n",
    "    # Only for FastSpeech & FastSpeech2\n",
    "    speed_control_alpha=1.0,\n",
    ")\n",
    "text2speech.spc2wav = None  # Disable griffin-lim\n",
    "# NOTE: Sometimes download is failed due to \"Permission denied\". That is \n",
    "#   the limitation of google drive. Please retry after serveral hours.\n",
    "vocoder = load_model(download_pretrained_model(vocoder_tag)).to(dev).eval()\n",
    "vocoder.remove_weight_norm()"
   ]
  },
  {
   "cell_type": "markdown",
   "metadata": {
    "id": "FMaT0Zev021a"
   },
   "source": [
    "### Synthesis"
   ]
  },
  {
   "cell_type": "code",
   "execution_count": null,
   "metadata": {
    "id": "vrRM57hhgtHy"
   },
   "outputs": [],
   "source": [
    "# decide the input sentence by yourself\n",
    "x = \"Hi vocoder. How are you?\"\n",
    "\n",
    "# synthesis\n",
    "with torch.no_grad():\n",
    "    start = time.time()\n",
    "    wav, c, *_ = text2speech(x)\n",
    "    wav = vocoder.inference(c)\n",
    "rtf = (time.time() - start) / (len(wav) / fs)\n",
    "print(f\"RTF = {rtf:5f}\")\n",
    "\n",
    "# let us listen to generated samples\n",
    "from IPython.display import display, Audio\n",
    "display(Audio(wav.view(-1).cpu().numpy(), rate=fs))"
   ]
  },
  {
   "cell_type": "markdown",
   "metadata": {
    "id": "3TTAygALqY6T"
   },
   "source": [
    "## Multi-speaker Model Demo"
   ]
  },
  {
   "cell_type": "markdown",
   "metadata": {
    "id": "rSEZYh22n4gn"
   },
   "source": [
    "### Model Selection\n",
    "\n",
    "Please select models by comment out.\n",
    "\n",
    "Now we provide only English multi-speaker pretrained model."
   ]
  },
  {
   "cell_type": "code",
   "execution_count": null,
   "metadata": {
    "id": "J87XSyYIn-Ha"
   },
   "outputs": [],
   "source": [
    "###################################\n",
    "#          ENGLISH MODELS         #\n",
    "###################################\n",
    "fs, lang = 24000, \"English\"\n",
    "tag = \"kan-bayashi/vctk_gst_tacotron2\"\n",
    "# tag = \"kan-bayashi/vctk_gst_transformer\"\n",
    "vocoder_tag = \"vctk_parallel_wavegan.v1\"\n",
    "# vocoder_tag = \"vctk_multi_band_melgan.v2\""
   ]
  },
  {
   "cell_type": "markdown",
   "metadata": {
    "id": "GcshmgYpoVzh"
   },
   "source": [
    "### Model Setup"
   ]
  },
  {
   "cell_type": "code",
   "execution_count": null,
   "metadata": {
    "id": "kfJFD4QroNhJ"
   },
   "outputs": [],
   "source": [
    "import time\n",
    "import torch\n",
    "from espnet_model_zoo.downloader import ModelDownloader\n",
    "from espnet2.bin.tts_inference import Text2Speech\n",
    "from parallel_wavegan.utils import download_pretrained_model\n",
    "from parallel_wavegan.utils import load_model\n",
    "d = ModelDownloader()\n",
    "text2speech = Text2Speech(\n",
    "    **d.download_and_unpack(tag),\n",
    "    device=\"cuda\",\n",
    "    # Only for Tacotron 2\n",
    "    threshold=0.5,\n",
    "    minlenratio=0.0,\n",
    "    maxlenratio=10.0,\n",
    "    use_att_constraint=False,\n",
    "    backward_window=1,\n",
    "    forward_window=3,\n",
    "    # Only for FastSpeech & FastSpeech2\n",
    "    speed_control_alpha=1.0,\n",
    ")\n",
    "text2speech.spc2wav = None  # Disable griffin-lim\n",
    "# NOTE: Sometimes download is failed due to \"Permission denied\". That is \n",
    "#   the limitation of google drive. Please retry after serveral hours.\n",
    "vocoder = load_model(download_pretrained_model(vocoder_tag)).to(\"cuda\").eval()\n",
    "vocoder.remove_weight_norm()"
   ]
  },
  {
   "cell_type": "markdown",
   "metadata": {
    "id": "W6G-1YW9ocYV"
   },
   "source": [
    "### Synthesis\n",
    "\n",
    "For multi-speaker model, we need to provide the reference speech to decide the speaker characteristics.  \n",
    "You can use any speech but please make sure the sampling rate is matched."
   ]
  },
  {
   "cell_type": "code",
   "execution_count": null,
   "metadata": {
    "id": "o87zK1NLobne"
   },
   "outputs": [],
   "source": [
    "# decide the input sentence by yourself\n",
    "print(f\"Input your favorite sentence in {lang}.\")\n",
    "x = input()\n",
    "\n",
    "# you can change here to load your own reference speech\n",
    "# e.g.\n",
    "# import soundfile as sf\n",
    "# speech, fs = sf.read(\"/path/to/reference.wav\")\n",
    "# speech = torch.from_numpy(speech).float()\n",
    "speech = torch.randn(50000,)\n",
    "\n",
    "# synthesis\n",
    "with torch.no_grad():\n",
    "    start = time.time()\n",
    "    wav, c, *_ = text2speech(x, speech=speech)\n",
    "    wav = vocoder.inference(c)\n",
    "rtf = (time.time() - start) / (len(wav) / fs)\n",
    "print(f\"RTF = {rtf:5f}\")\n",
    "\n",
    "# let us listen to generated samples\n",
    "from IPython.display import display, Audio\n",
    "display(Audio(wav.view(-1).cpu().numpy(), rate=fs))"
   ]
  }
 ],
 "metadata": {
  "accelerator": "GPU",
  "colab": {
   "collapsed_sections": [],
   "name": "espnet2_tts_demo",
   "provenance": [],
   "toc_visible": true
  },
  "kernelspec": {
   "display_name": "Python 3",
   "language": "python",
   "name": "python3"
  },
  "language_info": {
   "codemirror_mode": {
    "name": "ipython",
    "version": 3
   },
   "file_extension": ".py",
   "mimetype": "text/x-python",
   "name": "python",
   "nbconvert_exporter": "python",
   "pygments_lexer": "ipython3",
   "version": "3.6.12"
  }
 },
 "nbformat": 4,
 "nbformat_minor": 1
}
